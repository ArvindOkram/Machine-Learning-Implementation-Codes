{
 "cells": [
  {
   "cell_type": "code",
   "execution_count": 66,
   "metadata": {},
   "outputs": [
    {
     "name": "stdout",
     "output_type": "stream",
     "text": [
      "K Nearest Neighbour Implementation\n",
      "       x      y  class\n",
      "0  2.871  2.550      0\n",
      "1  1.465  2.362      0\n",
      "2  3.339  4.405      0\n",
      "3  1.380  1.850      0\n",
      "4  3.064  3.530      1\n",
      "5  7.620  2.759      1\n",
      "6  5.332  2.886      1\n",
      "7  6.922  1.771      1\n",
      "8  8.675 -0.245      1\n",
      "9  7.673  3.503      1\n",
      "The given data (3,4) belongs to class 0\n"
     ]
    },
    {
     "data": {
      "image/png": "[encoded data removed]",
      "text/plain": [
       "<Figure size 432x288 with 1 Axes>"
      ]
     },
     "metadata": {
      "needs_background": "light"
     },
     "output_type": "display_data"
    }
   ],
   "source": [
    "# K Nearest Neighbour\n",
    "import numpy as np\n",
    "import pandas as pd\n",
    "import matplotlib.pyplot as plt\n",
    "\n",
    "print(\"K Nearest Neighbour Implementation\")\n",
    "\n",
    "#Input data\n",
    "input_data = {'x':[2.871,1.465,3.339,1.380,3.064,7.62,5.332,6.922,8.675,7.673],\n",
    "              'y':[2.550,2.362,4.405,1.850,3.530,2.759,2.886,1.771,-0.245,3.503],\n",
    "              'class':[0,0,0,0,1,1,1,1,1,1]}\n",
    "\n",
    "df = pd.DataFrame(input_data)\n",
    "print(df)\n",
    "\n",
    "#Input data columns to list for computation\n",
    "x_list = df['x'].tolist()\n",
    "y_list = df['y'].tolist()\n",
    "class_list = df['class'].tolist()\n",
    "\n",
    "#ploting input data\n",
    "for i in range(len(x_list)):\n",
    "    if class_list[i] == 0:\n",
    "        plt.scatter(x_list[i],y_list[i],color='red') \n",
    "    else:\n",
    "        plt.scatter(x_list[i],y_list[i],marker=\"x\",color='blue')\n",
    "\n",
    "plt.xlabel(\"X-axis\")\n",
    "plt.ylabel(\"Y-axis\")\n",
    "plt.title('KNN training dataset and test dataset plot') \n",
    "\n",
    "\n",
    "\n",
    "#test data\n",
    "test_data_x,test_data_y = 3,4\n",
    "plt.scatter(test_data_x,test_data_y,color='orange',marker=\"*\") #plotting test data\n",
    "k = 5\n",
    "\n",
    "euclidean_distance = {}  #dict to hold distance of test data to the clusters\n",
    "\n",
    "#calculating euclidean distance\n",
    "for i in range(len(x_list)):\n",
    "    result = np.sqrt((test_data_x-x_list[i])**2+(test_data_y-y_list[i])**2)\n",
    "    euclidean_distance[result] = class_list[i]\n",
    "\n",
    "#sorting distances to find the min distance of the test data to cluster points\n",
    "dictionary_items = euclidean_distance.items()\n",
    "sorted_items = sorted(dictionary_items)\n",
    "sorted_distance = dict(sorted_items)\n",
    "class_classifier = sorted_distance.values()\n",
    "\n",
    "#count for the nearest neighbour of each cluster\n",
    "count_class_0 = count_class_1 = 0 \n",
    "for i in class_classifier:\n",
    "    if k == 0:\n",
    "        break\n",
    "    if i == 0:\n",
    "        count_class_0 += 1\n",
    "    else:\n",
    "        count_class_1 += 1\n",
    "    k = k-1     \n",
    "\n",
    "#printing result\n",
    "if count_class_0 > count_class_1:\n",
    "    print(\"The given data ({},{}) belongs to class 0\".format(test_data_x,test_data_y))\n",
    "else:\n",
    "    print(\"The given data ({},{}) belongs to class 1\".format(test_data_x,test_data_y))\n"
   ]
  },
  {
   "cell_type": "code",
   "execution_count": null,
   "metadata": {},
   "outputs": [],
   "source": []
  }
 ],
 "metadata": {
  "kernelspec": {
   "display_name": "Python 3",
   "language": "python",
   "name": "python3"
  },
  "language_info": {
   "codemirror_mode": {
    "name": "ipython",
    "version": 3
   },
   "file_extension": ".py",
   "mimetype": "text/x-python",
   "name": "python",
   "nbconvert_exporter": "python",
   "pygments_lexer": "ipython3",
   "version": "3.8.5"
  }
 },
 "nbformat": 4,
 "nbformat_minor": 4
}
